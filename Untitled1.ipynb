{
 "cells": [
  {
   "cell_type": "code",
   "execution_count": 1,
   "id": "944bd972-2616-42ec-bdf3-b382a05ce375",
   "metadata": {},
   "outputs": [
    {
     "name": "stdout",
     "output_type": "stream",
     "text": [
      "Requirement already satisfied: torch in c:\\users\\lab\\anaconda3\\lib\\site-packages (2.5.1+cpu)\n",
      "Requirement already satisfied: torchvision in c:\\users\\lab\\anaconda3\\lib\\site-packages (0.20.1+cpu)\n",
      "Requirement already satisfied: opencv-python in c:\\users\\lab\\anaconda3\\lib\\site-packages (4.10.0.84)\n",
      "Requirement already satisfied: matplotlib in c:\\users\\lab\\anaconda3\\lib\\site-packages (3.10.0)\n",
      "Requirement already satisfied: numpy in c:\\users\\lab\\anaconda3\\lib\\site-packages (1.26.4)\n",
      "Requirement already satisfied: filelock in c:\\users\\lab\\anaconda3\\lib\\site-packages (from torch) (3.16.1)\n",
      "Requirement already satisfied: typing-extensions>=4.8.0 in c:\\users\\lab\\anaconda3\\lib\\site-packages (from torch) (4.12.2)\n",
      "Requirement already satisfied: networkx in c:\\users\\lab\\anaconda3\\lib\\site-packages (from torch) (3.4.2)\n",
      "Requirement already satisfied: jinja2 in c:\\users\\lab\\anaconda3\\lib\\site-packages (from torch) (3.1.5)\n",
      "Requirement already satisfied: fsspec in c:\\users\\lab\\anaconda3\\lib\\site-packages (from torch) (2024.12.0)\n",
      "Requirement already satisfied: setuptools in c:\\users\\lab\\anaconda3\\lib\\site-packages (from torch) (75.6.0)\n",
      "Requirement already satisfied: sympy==1.13.1 in c:\\users\\lab\\anaconda3\\lib\\site-packages (from torch) (1.13.1)\n",
      "Requirement already satisfied: mpmath<1.4,>=1.1.0 in c:\\users\\lab\\anaconda3\\lib\\site-packages (from sympy==1.13.1->torch) (1.3.0)\n",
      "Requirement already satisfied: pillow!=8.3.*,>=5.3.0 in c:\\users\\lab\\anaconda3\\lib\\site-packages (from torchvision) (11.1.0)\n",
      "Requirement already satisfied: contourpy>=1.0.1 in c:\\users\\lab\\anaconda3\\lib\\site-packages (from matplotlib) (1.3.1)\n",
      "Requirement already satisfied: cycler>=0.10 in c:\\users\\lab\\anaconda3\\lib\\site-packages (from matplotlib) (0.12.1)\n",
      "Requirement already satisfied: fonttools>=4.22.0 in c:\\users\\lab\\anaconda3\\lib\\site-packages (from matplotlib) (4.55.3)\n",
      "Requirement already satisfied: kiwisolver>=1.3.1 in c:\\users\\lab\\anaconda3\\lib\\site-packages (from matplotlib) (1.4.8)\n",
      "Requirement already satisfied: packaging>=20.0 in c:\\users\\lab\\anaconda3\\lib\\site-packages (from matplotlib) (24.2)\n",
      "Requirement already satisfied: pyparsing>=2.3.1 in c:\\users\\lab\\anaconda3\\lib\\site-packages (from matplotlib) (3.2.1)\n",
      "Requirement already satisfied: python-dateutil>=2.7 in c:\\users\\lab\\anaconda3\\lib\\site-packages (from matplotlib) (2.9.0.post0)\n",
      "Requirement already satisfied: six>=1.5 in c:\\users\\lab\\anaconda3\\lib\\site-packages (from python-dateutil>=2.7->matplotlib) (1.17.0)\n",
      "Requirement already satisfied: MarkupSafe>=2.0 in c:\\users\\lab\\anaconda3\\lib\\site-packages (from jinja2->torch) (3.0.2)\n",
      "Note: you may need to restart the kernel to use updated packages.\n"
     ]
    },
    {
     "name": "stderr",
     "output_type": "stream",
     "text": [
      "WARNING: Ignoring invalid distribution ~ympy (C:\\Users\\lab\\anaconda3\\Lib\\site-packages)\n",
      "WARNING: Ignoring invalid distribution ~ympy (C:\\Users\\lab\\anaconda3\\Lib\\site-packages)\n",
      "WARNING: Ignoring invalid distribution ~ympy (C:\\Users\\lab\\anaconda3\\Lib\\site-packages)\n"
     ]
    }
   ],
   "source": [
    "pip install torch torchvision opencv-python matplotlib numpy"
   ]
  },
  {
   "cell_type": "code",
   "execution_count": 14,
   "id": "89b3595a-2559-4fd0-94b6-b1f7a70b74f6",
   "metadata": {},
   "outputs": [],
   "source": [
    "image_path = \"C:/path/to/your/image/thsrkfkr.jpg\"  # 절대 경로\n"
   ]
  },
  {
   "cell_type": "code",
   "execution_count": 40,
   "id": "3adfcb0d-d156-4eb3-9fc8-e9f32e383d0b",
   "metadata": {},
   "outputs": [
    {
     "name": "stdout",
     "output_type": "stream",
     "text": [
      "File 'dydwjq.jpg' found.\n"
     ]
    }
   ],
   "source": [
    "import os\n",
    "\n",
    "image_path = \"dydwjq.jpg\"\n",
    "\n",
    "if not os.path.exists(image_path):\n",
    "    print(f\"Error: File '{image_path}' not found.\")\n",
    "else:\n",
    "    print(f\"File '{image_path}' found.\")\n"
   ]
  },
  {
   "cell_type": "code",
   "execution_count": 2,
   "id": "0482cee9-518c-49c7-9bbb-ee20e95442a2",
   "metadata": {},
   "outputs": [
    {
     "name": "stderr",
     "output_type": "stream",
     "text": [
      "C:\\Users\\lab\\anaconda3\\Lib\\site-packages\\torchvision\\models\\_utils.py:208: UserWarning: The parameter 'pretrained' is deprecated since 0.13 and may be removed in the future, please use 'weights' instead.\n",
      "  warnings.warn(\n",
      "C:\\Users\\lab\\anaconda3\\Lib\\site-packages\\torchvision\\models\\_utils.py:223: UserWarning: Arguments other than a weight enum or `None` for 'weights' are deprecated since 0.13 and may be removed in the future. The current behavior is equivalent to passing `weights=FasterRCNN_ResNet50_FPN_Weights.COCO_V1`. You can also use `weights=FasterRCNN_ResNet50_FPN_Weights.DEFAULT` to get the most up-to-date weights.\n",
      "  warnings.warn(msg)\n",
      "Downloading: \"https://download.pytorch.org/models/fasterrcnn_resnet50_fpn_coco-258fb6c6.pth\" to C:\\Users\\lab/.cache\\torch\\hub\\checkpoints\\fasterrcnn_resnet50_fpn_coco-258fb6c6.pth\n",
      "100%|█████████████████████████████████████████████████████████████| 160M/160M [00:05<00:00, 28.4MB/s]\n"
     ]
    }
   ],
   "source": [
    "import torch\n",
    "import torchvision\n",
    "from torchvision.models.detection import fasterrcnn_resnet50_fpn\n",
    "from torchvision.transforms import functional as F\n",
    "from PIL import Image\n",
    "\n",
    "# Pretrained 모델 로드 (Faster R-CNN + ResNet50)\n",
    "model = fasterrcnn_resnet50_fpn(pretrained=True)\n",
    "model.eval()\n",
    "\n",
    "# GPU 설정 (선택)\n",
    "device = torch.device(\"cuda\") if torch.cuda.is_available() else torch.device(\"cpu\")\n",
    "model.to(device)\n",
    "\n",
    "# Transform 정의\n",
    "def transform_image(image_path):\n",
    "    image = Image.open(image_path).convert(\"RGB\")\n",
    "    img_tensor = F.to_tensor(image)\n",
    "    return img_tensor\n"
   ]
  },
  {
   "cell_type": "code",
   "execution_count": 42,
   "id": "7d0e029d-bbf0-4ae4-84db-d98ffaf34951",
   "metadata": {},
   "outputs": [],
   "source": [
    "from torch.utils.data import Dataset, DataLoader\n",
    "\n",
    "class CustomDataset(Dataset):\n",
    "    def __init__(self, image_paths, annotations, transforms=None):\n",
    "        self.image_paths = image_paths\n",
    "        self.annotations = annotations\n",
    "        self.transforms = transforms\n",
    "\n",
    "    def __len__(self):\n",
    "        return len(self.image_paths)\n",
    "\n",
    "    def __getitem__(self, idx):\n",
    "        img_path = self.image_paths[idx]\n",
    "        img = Image.open(img_path).convert(\"RGB\")\n",
    "        target = self.annotations[idx]\n",
    "        \n",
    "        if self.transforms:\n",
    "            img = self.transforms(img)\n",
    "        \n",
    "        return img, target\n"
   ]
  },
  {
   "cell_type": "code",
   "execution_count": 47,
   "id": "e1e56664-164e-40c1-8b61-bc9122fbb51b",
   "metadata": {},
   "outputs": [],
   "source": [
    "import cv2\n",
    "import matplotlib.pyplot as plt\n",
    "\n",
    "def classify_task(predictions):\n",
    "    \"\"\"\n",
    "    Bounding Box 정보를 기반으로 6, 7, 8호 작업을 분류.\n",
    "    \"\"\"\n",
    "    # '손가락', '손', '양손' 클래스의 라벨 ID를 설정\n",
    "    finger_label = 1  # 손가락\n",
    "    hand_label = 2    # 손\n",
    "    both_hands_label = 3  # 양손\n",
    "\n",
    "    # Bounding Box의 클래스 라벨 확인\n",
    "    num_fingers = sum([1 for label in predictions[0]['labels'] if label == finger_label])\n",
    "    num_hands = sum([1 for label in predictions[0]['labels'] if label == hand_label])\n",
    "    num_both_hands = sum([1 for label in predictions[0]['labels'] if label == both_hands_label])\n",
    "\n",
    "    # 작업 유형 분류\n",
    "    if num_fingers > 0 and num_hands == 0 and num_both_hands == 0:\n",
    "        return \"6호 작업\"\n",
    "    elif num_hands > 0 and num_both_hands == 0:\n",
    "        return \"7호 작업\"\n",
    "    elif num_both_hands > 0:\n",
    "        return \"8호 작업\"\n",
    "    else:\n",
    "        return \"작업 미확인\"\n",
    "\n",
    "def visualize_predictions_with_task(image_path, predictions, task):\n",
    "    \"\"\"\n",
    "    이미지 위에 Bounding Box와 작업 유형 표시.\n",
    "    \"\"\"\n",
    "    # 이미지 로드\n",
    "    image = cv2.imread(image_path)\n",
    "    image = cv2.cvtColor(image, cv2.COLOR_BGR2RGB)\n",
    "\n",
    "    # Bounding Box 시각화\n",
    "    for box, label in zip(predictions[0]['boxes'], predictions[0]['labels']):\n",
    "        # box는 리스트이므로 map(int, box)로 변환\n",
    "        x1, y1, x2, y2 = map(int, box)\n",
    "        # 색상 설정 (손가락: 빨강, 손: 초록, 양손: 파랑)\n",
    "        color = (255, 0, 0) if label == 1 else (0, 255, 0) if label == 2 else (0, 0, 255)\n",
    "        # Bounding Box 그리기\n",
    "        cv2.rectangle(image, (x1, y1), (x2, y2), color, 2)\n",
    "        # 라벨 텍스트 추가\n",
    "        label_text = \"손가락\" if label == 1 else \"손\" if label == 2 else \"양손\"\n",
    "        cv2.putText(image, label_text, (x1, y1 - 10), cv2.FONT_HERSHEY_SIMPLEX, 0.5, color, 2)\n",
    "\n",
    "    # 작업 유형 표시\n",
    "    cv2.putText(image, f\"작업 유형: {task}\", (10, 30), cv2.FONT_HERSHEY_SIMPLEX, 1, (255, 255, 0), 2)\n",
    "\n",
    "    # 이미지 출력\n",
    "    plt.imshow(image)\n",
    "    plt.axis('off')\n",
    "    plt.show()\n",
    "\n",
    "# 추론 결과 예시\n",
    "predictions = [\n",
    "    {\n",
    "        'boxes': [[100, 50, 150, 100], [200, 80, 260, 130], [300, 120, 380, 180]],  # Bounding Box 좌표\n",
    "        'labels': [1, 2, 3]  # 클래스 라벨 (손가락, 손, 양손)\n",
    "    }\n",
    "]\n",
    "\n",
    "# 이미지 파일 경로\n",
    "image_path = \"dydwjq.jpg\"  # 실제 파일 경로\n",
    "\n",
    "# 작업 유형 분류\n",
    "task = classify_task(predictions)\n",
    "\n",
    "# 결과 시각화\n",
    "visualize_predictions_with_task(image_path, predictions, task)\n"
   ]
  }
 ],
 "metadata": {
  "kernelspec": {
   "display_name": "Python 3 (ipykernel)",
   "language": "python",
   "name": "python3"
  },
  "language_info": {
   "codemirror_mode": {
    "name": "ipython",
    "version": 3
   },
   "file_extension": ".py",
   "mimetype": "text/x-python",
   "name": "python",
   "nbconvert_exporter": "python",
   "pygments_lexer": "ipython3",
   "version": "3.12.7"
  }
 },
 "nbformat": 4,
 "nbformat_minor": 5
}
